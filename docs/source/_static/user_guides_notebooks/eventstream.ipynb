{
 "cells": [
  {
   "cell_type": "markdown",
   "metadata": {
    "id": "vtGqS-SRKnlx"
   },
   "source": [
    "## Prerequisites\n",
    "\n",
    "Run this cell to prepare the environment. This step is obligatory."
   ]
  },
  {
   "cell_type": "code",
   "execution_count": null,
   "metadata": {
    "colab": {
     "base_uri": "https://localhost:8080/"
    },
    "executionInfo": {
     "elapsed": 46390,
     "status": "ok",
     "timestamp": 1682533467826,
     "user": {
      "displayName": "Anatoliy Zaykovskiy",
      "userId": "11710160701524337708"
     },
     "user_tz": -180
    },
    "id": "bieK6_UAZ94I",
    "outputId": "180531d1-1adb-4299-ba62-dd724465cd66"
   },
   "outputs": [],
   "source": [
    "!pip install retentioneering"
   ]
  },
  {
   "cell_type": "markdown",
   "metadata": {
    "id": "ehhXXP78mkKN"
   },
   "source": [
    "The full text of [Eventstream user guide](https://doc.retentioneering.com/release3/doc/user_guides/eventstream.html) is available on the retentioneering website."
   ]
  },
  {
   "cell_type": "markdown",
   "metadata": {
    "id": "5lNAjTawnauQ"
   },
   "source": [
    "## Eventstream creation"
   ]
  },
  {
   "cell_type": "markdown",
   "metadata": {
    "id": "aTSWoRC3neE1"
   },
   "source": [
    "### Default field names"
   ]
  },
  {
   "cell_type": "code",
   "execution_count": 2,
   "metadata": {
    "id": "Qnv8CLLknifp"
   },
   "outputs": [],
   "source": [
    "import pandas as pd\n",
    "\n",
    "df1 = pd.DataFrame(\n",
    "    [\n",
    "        ['user_1', 'A', '2023-01-01 00:00:00'],\n",
    "        ['user_1', 'B', '2023-01-01 00:00:01'],\n",
    "        ['user_2', 'B', '2023-01-01 00:00:02'],\n",
    "        ['user_2', 'A', '2023-01-01 00:00:03'],\n",
    "        ['user_2', 'A', '2023-01-01 00:00:04'],\n",
    "    ],\n",
    "    columns=['user_id', 'event', 'timestamp']\n",
    ")"
   ]
  },
  {
   "cell_type": "code",
   "execution_count": 3,
   "metadata": {
    "id": "RKad2rLIn7AX"
   },
   "outputs": [],
   "source": [
    "from retentioneering.eventstream import Eventstream\n",
    "\n",
    "stream1 = Eventstream(df1)"
   ]
  },
  {
   "cell_type": "code",
   "execution_count": 4,
   "metadata": {
    "colab": {
     "base_uri": "https://localhost:8080/",
     "height": 250
    },
    "executionInfo": {
     "elapsed": 6,
     "status": "ok",
     "timestamp": 1682533511878,
     "user": {
      "displayName": "Anatoliy Zaykovskiy",
      "userId": "11710160701524337708"
     },
     "user_tz": -180
    },
    "id": "GvdbciRron1h",
    "outputId": "5f7d8db2-6188-43cb-f03e-eab737321966"
   },
   "outputs": [
    {
     "data": {
      "text/html": [
       "<div>\n",
       "<style scoped>\n",
       "    .dataframe tbody tr th:only-of-type {\n",
       "        vertical-align: middle;\n",
       "    }\n",
       "\n",
       "    .dataframe tbody tr th {\n",
       "        vertical-align: top;\n",
       "    }\n",
       "\n",
       "    .dataframe thead th {\n",
       "        text-align: right;\n",
       "    }\n",
       "</style>\n",
       "<table border=\"1\" class=\"dataframe\">\n",
       "  <thead>\n",
       "    <tr style=\"text-align: right;\">\n",
       "      <th></th>\n",
       "      <th>event_id</th>\n",
       "      <th>event_type</th>\n",
       "      <th>event_index</th>\n",
       "      <th>event</th>\n",
       "      <th>timestamp</th>\n",
       "      <th>user_id</th>\n",
       "    </tr>\n",
       "  </thead>\n",
       "  <tbody>\n",
       "    <tr>\n",
       "      <th>0</th>\n",
       "      <td>67ca4c62-f168-48b9-bca5-31004aca1ea4</td>\n",
       "      <td>raw</td>\n",
       "      <td>0</td>\n",
       "      <td>A</td>\n",
       "      <td>2023-01-01 00:00:00</td>\n",
       "      <td>user_1</td>\n",
       "    </tr>\n",
       "    <tr>\n",
       "      <th>1</th>\n",
       "      <td>e363da60-1e37-4b31-b942-f080a090afb5</td>\n",
       "      <td>raw</td>\n",
       "      <td>1</td>\n",
       "      <td>B</td>\n",
       "      <td>2023-01-01 00:00:01</td>\n",
       "      <td>user_1</td>\n",
       "    </tr>\n",
       "    <tr>\n",
       "      <th>2</th>\n",
       "      <td>f37511d4-882c-401b-8a20-b2d60497802e</td>\n",
       "      <td>raw</td>\n",
       "      <td>2</td>\n",
       "      <td>B</td>\n",
       "      <td>2023-01-01 00:00:02</td>\n",
       "      <td>user_2</td>\n",
       "    </tr>\n",
       "    <tr>\n",
       "      <th>3</th>\n",
       "      <td>26c62d80-ec33-4bb0-9cb0-4c1c26b8243a</td>\n",
       "      <td>raw</td>\n",
       "      <td>3</td>\n",
       "      <td>A</td>\n",
       "      <td>2023-01-01 00:00:03</td>\n",
       "      <td>user_2</td>\n",
       "    </tr>\n",
       "    <tr>\n",
       "      <th>4</th>\n",
       "      <td>85510a1b-10e4-4284-aa6c-ef8c8ade2890</td>\n",
       "      <td>raw</td>\n",
       "      <td>4</td>\n",
       "      <td>A</td>\n",
       "      <td>2023-01-01 00:00:04</td>\n",
       "      <td>user_2</td>\n",
       "    </tr>\n",
       "  </tbody>\n",
       "</table>\n",
       "</div>"
      ],
      "text/plain": [
       "                               event_id event_type  event_index event  \\\n",
       "0  67ca4c62-f168-48b9-bca5-31004aca1ea4        raw            0     A   \n",
       "1  e363da60-1e37-4b31-b942-f080a090afb5        raw            1     B   \n",
       "2  f37511d4-882c-401b-8a20-b2d60497802e        raw            2     B   \n",
       "3  26c62d80-ec33-4bb0-9cb0-4c1c26b8243a        raw            3     A   \n",
       "4  85510a1b-10e4-4284-aa6c-ef8c8ade2890        raw            4     A   \n",
       "\n",
       "            timestamp user_id  \n",
       "0 2023-01-01 00:00:00  user_1  \n",
       "1 2023-01-01 00:00:01  user_1  \n",
       "2 2023-01-01 00:00:02  user_2  \n",
       "3 2023-01-01 00:00:03  user_2  \n",
       "4 2023-01-01 00:00:04  user_2  "
      ]
     },
     "execution_count": 4,
     "metadata": {},
     "output_type": "execute_result"
    }
   ],
   "source": [
    "stream1.to_dataframe()"
   ]
  },
  {
   "cell_type": "markdown",
   "metadata": {
    "id": "wgEuD1LbpIch"
   },
   "source": [
    "### Custom field names"
   ]
  },
  {
   "cell_type": "code",
   "execution_count": 5,
   "metadata": {
    "colab": {
     "base_uri": "https://localhost:8080/",
     "height": 187
    },
    "executionInfo": {
     "elapsed": 864,
     "status": "ok",
     "timestamp": 1682533522926,
     "user": {
      "displayName": "Anatoliy Zaykovskiy",
      "userId": "11710160701524337708"
     },
     "user_tz": -180
    },
    "id": "MahQ47jZpWQ9",
    "outputId": "906f96fc-cf3b-4d7b-f70c-0a66e6179680"
   },
   "outputs": [
    {
     "data": {
      "text/html": [
       "<div>\n",
       "<style scoped>\n",
       "    .dataframe tbody tr th:only-of-type {\n",
       "        vertical-align: middle;\n",
       "    }\n",
       "\n",
       "    .dataframe tbody tr th {\n",
       "        vertical-align: top;\n",
       "    }\n",
       "\n",
       "    .dataframe thead th {\n",
       "        text-align: right;\n",
       "    }\n",
       "</style>\n",
       "<table border=\"1\" class=\"dataframe\">\n",
       "  <thead>\n",
       "    <tr style=\"text-align: right;\">\n",
       "      <th></th>\n",
       "      <th>event_id</th>\n",
       "      <th>event_type</th>\n",
       "      <th>event_index</th>\n",
       "      <th>event</th>\n",
       "      <th>timestamp</th>\n",
       "      <th>user_id</th>\n",
       "    </tr>\n",
       "  </thead>\n",
       "  <tbody>\n",
       "    <tr>\n",
       "      <th>0</th>\n",
       "      <td>9c2e03b3-9e16-4c59-ab13-21fe310f3b0f</td>\n",
       "      <td>raw</td>\n",
       "      <td>0</td>\n",
       "      <td>A</td>\n",
       "      <td>2023-01-01 00:00:00</td>\n",
       "      <td>user_1</td>\n",
       "    </tr>\n",
       "    <tr>\n",
       "      <th>1</th>\n",
       "      <td>3fce68ce-3e54-411b-bc68-7ca05c172222</td>\n",
       "      <td>raw</td>\n",
       "      <td>1</td>\n",
       "      <td>B</td>\n",
       "      <td>2023-01-01 00:00:01</td>\n",
       "      <td>user_1</td>\n",
       "    </tr>\n",
       "    <tr>\n",
       "      <th>2</th>\n",
       "      <td>84871810-68fa-44d0-aa1b-9b4d7d399f83</td>\n",
       "      <td>raw</td>\n",
       "      <td>2</td>\n",
       "      <td>B</td>\n",
       "      <td>2023-01-01 00:00:02</td>\n",
       "      <td>user_2</td>\n",
       "    </tr>\n",
       "  </tbody>\n",
       "</table>\n",
       "</div>"
      ],
      "text/plain": [
       "                               event_id event_type  event_index event  \\\n",
       "0  9c2e03b3-9e16-4c59-ab13-21fe310f3b0f        raw            0     A   \n",
       "1  3fce68ce-3e54-411b-bc68-7ca05c172222        raw            1     B   \n",
       "2  84871810-68fa-44d0-aa1b-9b4d7d399f83        raw            2     B   \n",
       "\n",
       "            timestamp user_id  \n",
       "0 2023-01-01 00:00:00  user_1  \n",
       "1 2023-01-01 00:00:01  user_1  \n",
       "2 2023-01-01 00:00:02  user_2  "
      ]
     },
     "execution_count": 5,
     "metadata": {},
     "output_type": "execute_result"
    }
   ],
   "source": [
    "df2 = pd.DataFrame(\n",
    "    [\n",
    "        ['user_1', 'A', '2023-01-01 00:00:00'],\n",
    "        ['user_1', 'B', '2023-01-01 00:00:01'],\n",
    "        ['user_2', 'B', '2023-01-01 00:00:02'],\n",
    "        ['user_2', 'A', '2023-01-01 00:00:03'],\n",
    "        ['user_2', 'A', '2023-01-01 00:00:04']\n",
    "    ],\n",
    "     columns=['client_id', 'action', 'datetime']\n",
    ")\n",
    "\n",
    "raw_data_schema = {\n",
    "    'user_id': 'client_id',\n",
    "    'event_name': 'action',\n",
    "    'event_timestamp': 'datetime'\n",
    "}\n",
    "\n",
    "stream2 = Eventstream(df2, raw_data_schema=raw_data_schema)\n",
    "stream2.to_dataframe().head(3)"
   ]
  },
  {
   "cell_type": "code",
   "execution_count": 6,
   "metadata": {
    "colab": {
     "base_uri": "https://localhost:8080/",
     "height": 240
    },
    "executionInfo": {
     "elapsed": 9,
     "status": "ok",
     "timestamp": 1682533616073,
     "user": {
      "displayName": "Anatoliy Zaykovskiy",
      "userId": "11710160701524337708"
     },
     "user_tz": -180
    },
    "id": "nF_GgR1Kpt5S",
    "outputId": "bebbf70d-24bf-4a7a-fba1-ec513e255ad3"
   },
   "outputs": [
    {
     "data": {
      "text/html": [
       "<div>\n",
       "<style scoped>\n",
       "    .dataframe tbody tr th:only-of-type {\n",
       "        vertical-align: middle;\n",
       "    }\n",
       "\n",
       "    .dataframe tbody tr th {\n",
       "        vertical-align: top;\n",
       "    }\n",
       "\n",
       "    .dataframe thead th {\n",
       "        text-align: right;\n",
       "    }\n",
       "</style>\n",
       "<table border=\"1\" class=\"dataframe\">\n",
       "  <thead>\n",
       "    <tr style=\"text-align: right;\">\n",
       "      <th></th>\n",
       "      <th>event_id</th>\n",
       "      <th>event_type</th>\n",
       "      <th>event_index</th>\n",
       "      <th>event</th>\n",
       "      <th>timestamp</th>\n",
       "      <th>user_id</th>\n",
       "      <th>session_id</th>\n",
       "    </tr>\n",
       "  </thead>\n",
       "  <tbody>\n",
       "    <tr>\n",
       "      <th>0</th>\n",
       "      <td>97ff3f06-6593-4c7f-a5b6-040377d04ece</td>\n",
       "      <td>raw</td>\n",
       "      <td>0</td>\n",
       "      <td>A</td>\n",
       "      <td>2023-01-01 00:00:00</td>\n",
       "      <td>user_1</td>\n",
       "      <td>session_1</td>\n",
       "    </tr>\n",
       "    <tr>\n",
       "      <th>1</th>\n",
       "      <td>97852c27-4b28-4ea0-8aa9-42ab8faf47d0</td>\n",
       "      <td>raw</td>\n",
       "      <td>1</td>\n",
       "      <td>B</td>\n",
       "      <td>2023-01-01 00:00:01</td>\n",
       "      <td>user_1</td>\n",
       "      <td>session_1</td>\n",
       "    </tr>\n",
       "    <tr>\n",
       "      <th>2</th>\n",
       "      <td>c197d2ea-617f-4b13-b637-c1b9b70c6f57</td>\n",
       "      <td>raw</td>\n",
       "      <td>2</td>\n",
       "      <td>B</td>\n",
       "      <td>2023-01-01 00:00:02</td>\n",
       "      <td>user_2</td>\n",
       "      <td>session_2</td>\n",
       "    </tr>\n",
       "  </tbody>\n",
       "</table>\n",
       "</div>"
      ],
      "text/plain": [
       "                               event_id event_type  event_index event  \\\n",
       "0  97ff3f06-6593-4c7f-a5b6-040377d04ece        raw            0     A   \n",
       "1  97852c27-4b28-4ea0-8aa9-42ab8faf47d0        raw            1     B   \n",
       "2  c197d2ea-617f-4b13-b637-c1b9b70c6f57        raw            2     B   \n",
       "\n",
       "            timestamp user_id session_id  \n",
       "0 2023-01-01 00:00:00  user_1  session_1  \n",
       "1 2023-01-01 00:00:01  user_1  session_1  \n",
       "2 2023-01-01 00:00:02  user_2  session_2  "
      ]
     },
     "execution_count": 6,
     "metadata": {},
     "output_type": "execute_result"
    }
   ],
   "source": [
    "df3 = pd.DataFrame(\n",
    "    [\n",
    "        ['user_1', 'A', '2023-01-01 00:00:00', 'session_1'],\n",
    "        ['user_1', 'B', '2023-01-01 00:00:01', 'session_1'],\n",
    "        ['user_2', 'B', '2023-01-01 00:00:02', 'session_2'],\n",
    "        ['user_2', 'A', '2023-01-01 00:00:03', 'session_3'],\n",
    "        ['user_2', 'A', '2023-01-01 00:00:04', 'session_3']\n",
    "    ],\n",
    "    columns=['client_id', 'action', 'datetime', 'session']\n",
    ")\n",
    "\n",
    "raw_data_schema = {\n",
    "    'user_id': 'client_id',\n",
    "    'event_name': 'action',\n",
    "    'event_timestamp': 'datetime',\n",
    "    'custom_cols': [\n",
    "        {\n",
    "            'raw_data_col': 'session',\n",
    "            'custom_col': 'session_id'\n",
    "        }\n",
    "    ]\n",
    "}\n",
    "\n",
    "stream3 = Eventstream(df3, raw_data_schema=raw_data_schema)\n",
    "stream3.to_dataframe().head(3)"
   ]
  },
  {
   "cell_type": "markdown",
   "metadata": {
    "id": "wEdtu-T5vUQO"
   },
   "source": [
    "### Eventstream field names"
   ]
  },
  {
   "cell_type": "code",
   "execution_count": 7,
   "metadata": {
    "colab": {
     "base_uri": "https://localhost:8080/",
     "height": 240
    },
    "executionInfo": {
     "elapsed": 988,
     "status": "ok",
     "timestamp": 1682533622903,
     "user": {
      "displayName": "Anatoliy Zaykovskiy",
      "userId": "11710160701524337708"
     },
     "user_tz": -180
    },
    "id": "hH6YUPxZvXj8",
    "outputId": "ad3eb187-36a7-476f-e34f-6c170d48ddea"
   },
   "outputs": [
    {
     "data": {
      "text/html": [
       "<div>\n",
       "<style scoped>\n",
       "    .dataframe tbody tr th:only-of-type {\n",
       "        vertical-align: middle;\n",
       "    }\n",
       "\n",
       "    .dataframe tbody tr th {\n",
       "        vertical-align: top;\n",
       "    }\n",
       "\n",
       "    .dataframe thead th {\n",
       "        text-align: right;\n",
       "    }\n",
       "</style>\n",
       "<table border=\"1\" class=\"dataframe\">\n",
       "  <thead>\n",
       "    <tr style=\"text-align: right;\">\n",
       "      <th></th>\n",
       "      <th>event_id</th>\n",
       "      <th>event_type</th>\n",
       "      <th>event_index</th>\n",
       "      <th>action</th>\n",
       "      <th>datetime</th>\n",
       "      <th>client_id</th>\n",
       "    </tr>\n",
       "  </thead>\n",
       "  <tbody>\n",
       "    <tr>\n",
       "      <th>0</th>\n",
       "      <td>c9940979-b144-4642-9c2b-39876ecc2311</td>\n",
       "      <td>raw</td>\n",
       "      <td>0</td>\n",
       "      <td>A</td>\n",
       "      <td>2023-01-01 00:00:00</td>\n",
       "      <td>user_1</td>\n",
       "    </tr>\n",
       "    <tr>\n",
       "      <th>1</th>\n",
       "      <td>540daf68-b11c-4e2f-87e5-c2fefb880b23</td>\n",
       "      <td>raw</td>\n",
       "      <td>1</td>\n",
       "      <td>B</td>\n",
       "      <td>2023-01-01 00:00:01</td>\n",
       "      <td>user_1</td>\n",
       "    </tr>\n",
       "    <tr>\n",
       "      <th>2</th>\n",
       "      <td>9fad0b1a-be9a-4402-b582-a3339535a2c6</td>\n",
       "      <td>raw</td>\n",
       "      <td>2</td>\n",
       "      <td>B</td>\n",
       "      <td>2023-01-01 00:00:02</td>\n",
       "      <td>user_2</td>\n",
       "    </tr>\n",
       "  </tbody>\n",
       "</table>\n",
       "</div>"
      ],
      "text/plain": [
       "                               event_id event_type  event_index action  \\\n",
       "0  c9940979-b144-4642-9c2b-39876ecc2311        raw            0      A   \n",
       "1  540daf68-b11c-4e2f-87e5-c2fefb880b23        raw            1      B   \n",
       "2  9fad0b1a-be9a-4402-b582-a3339535a2c6        raw            2      B   \n",
       "\n",
       "             datetime client_id  \n",
       "0 2023-01-01 00:00:00    user_1  \n",
       "1 2023-01-01 00:00:01    user_1  \n",
       "2 2023-01-01 00:00:02    user_2  "
      ]
     },
     "execution_count": 7,
     "metadata": {},
     "output_type": "execute_result"
    }
   ],
   "source": [
    "from retentioneering.eventstream import EventstreamSchema\n",
    "\n",
    "new_eventstream_schema = EventstreamSchema(\n",
    "    user_id='client_id',\n",
    "    event_name='action',\n",
    "    event_timestamp='datetime'\n",
    ")\n",
    "\n",
    "stream1_new_schema = Eventstream(df1, schema=new_eventstream_schema)\n",
    "stream1_new_schema.to_dataframe().head(3)"
   ]
  },
  {
   "cell_type": "code",
   "execution_count": 8,
   "metadata": {
    "colab": {
     "base_uri": "https://localhost:8080/"
    },
    "executionInfo": {
     "elapsed": 5,
     "status": "ok",
     "timestamp": 1682533623512,
     "user": {
      "displayName": "Anatoliy Zaykovskiy",
      "userId": "11710160701524337708"
     },
     "user_tz": -180
    },
    "id": "NuayqnFGyLuU",
    "outputId": "c84dde70-e1b2-4fd8-b46d-66fb914cca5f"
   },
   "outputs": [
    {
     "data": {
      "text/plain": [
       "EventstreamSchema(event_id='event_id', event_type='event_type', event_index='event_index', event_name='action', event_timestamp='datetime', user_id='client_id', custom_cols=[])"
      ]
     },
     "execution_count": 8,
     "metadata": {},
     "output_type": "execute_result"
    }
   ],
   "source": [
    "stream1_new_schema.schema"
   ]
  },
  {
   "cell_type": "markdown",
   "metadata": {
    "id": "Lo-EDNjup0y3"
   },
   "source": [
    "### User sampling"
   ]
  },
  {
   "cell_type": "code",
   "execution_count": 9,
   "metadata": {
    "colab": {
     "base_uri": "https://localhost:8080/"
    },
    "executionInfo": {
     "elapsed": 1177,
     "status": "ok",
     "timestamp": 1682533628796,
     "user": {
      "displayName": "Anatoliy Zaykovskiy",
      "userId": "11710160701524337708"
     },
     "user_tz": -180
    },
    "id": "xvC0Y23cqYwB",
    "outputId": "406b908f-e00c-4f15-ac96-15dfb2d7570a"
   },
   "outputs": [
    {
     "name": "stdout",
     "output_type": "stream",
     "text": [
      "Original number of the events: 32283\n",
      "Sampled number of the events: 3298\n",
      "Original unique users number:  3751\n",
      "Sampled unique users number:  375\n"
     ]
    }
   ],
   "source": [
    "from retentioneering import datasets\n",
    "\n",
    "simple_shop_df = datasets.load_simple_shop(as_dataframe=True)\n",
    "sampled_stream = Eventstream(\n",
    "    simple_shop_df,\n",
    "    user_sample_size=0.1,\n",
    "    user_sample_seed=42\n",
    ")\n",
    "\n",
    "print('Original number of the events:', len(simple_shop_df))\n",
    "print('Sampled number of the events:', len(sampled_stream.to_dataframe()))\n",
    "\n",
    "unique_users_original = simple_shop_df['user_id'].nunique()\n",
    "unique_users_sampled = sampled_stream.to_dataframe()['user_id'].nunique()\n",
    "\n",
    "print('Original unique users number: ', unique_users_original)\n",
    "print('Sampled unique users number: ', unique_users_sampled)"
   ]
  },
  {
   "cell_type": "markdown",
   "metadata": {
    "id": "i9CxVJyezztC"
   },
   "source": [
    "<a name=\"displaying_eventstream\"></a>\n",
    "### Displaying eventstream"
   ]
  },
  {
   "cell_type": "code",
   "execution_count": 10,
   "metadata": {
    "colab": {
     "base_uri": "https://localhost:8080/",
     "height": 337
    },
    "executionInfo": {
     "elapsed": 13,
     "status": "ok",
     "timestamp": 1682533633144,
     "user": {
      "displayName": "Anatoliy Zaykovskiy",
      "userId": "11710160701524337708"
     },
     "user_tz": -180
    },
    "id": "p4KUwnZh0BvG",
    "outputId": "8436d30d-b016-4417-f8bd-ad8943dff4d7"
   },
   "outputs": [
    {
     "data": {
      "text/html": [
       "<div>\n",
       "<style scoped>\n",
       "    .dataframe tbody tr th:only-of-type {\n",
       "        vertical-align: middle;\n",
       "    }\n",
       "\n",
       "    .dataframe tbody tr th {\n",
       "        vertical-align: top;\n",
       "    }\n",
       "\n",
       "    .dataframe thead th {\n",
       "        text-align: right;\n",
       "    }\n",
       "</style>\n",
       "<table border=\"1\" class=\"dataframe\">\n",
       "  <thead>\n",
       "    <tr style=\"text-align: right;\">\n",
       "      <th></th>\n",
       "      <th>event_id</th>\n",
       "      <th>event_type</th>\n",
       "      <th>event_index</th>\n",
       "      <th>event</th>\n",
       "      <th>timestamp</th>\n",
       "      <th>user_id</th>\n",
       "      <th>session_id</th>\n",
       "    </tr>\n",
       "  </thead>\n",
       "  <tbody>\n",
       "    <tr>\n",
       "      <th>0</th>\n",
       "      <td>97ff3f06-6593-4c7f-a5b6-040377d04ece</td>\n",
       "      <td>raw</td>\n",
       "      <td>0</td>\n",
       "      <td>A</td>\n",
       "      <td>2023-01-01 00:00:00</td>\n",
       "      <td>user_1</td>\n",
       "      <td>session_1</td>\n",
       "    </tr>\n",
       "    <tr>\n",
       "      <th>1</th>\n",
       "      <td>97852c27-4b28-4ea0-8aa9-42ab8faf47d0</td>\n",
       "      <td>raw</td>\n",
       "      <td>1</td>\n",
       "      <td>B</td>\n",
       "      <td>2023-01-01 00:00:01</td>\n",
       "      <td>user_1</td>\n",
       "      <td>session_1</td>\n",
       "    </tr>\n",
       "    <tr>\n",
       "      <th>2</th>\n",
       "      <td>c197d2ea-617f-4b13-b637-c1b9b70c6f57</td>\n",
       "      <td>raw</td>\n",
       "      <td>2</td>\n",
       "      <td>B</td>\n",
       "      <td>2023-01-01 00:00:02</td>\n",
       "      <td>user_2</td>\n",
       "      <td>session_2</td>\n",
       "    </tr>\n",
       "    <tr>\n",
       "      <th>3</th>\n",
       "      <td>cbb49db3-b102-4e73-a974-11a142c72e98</td>\n",
       "      <td>raw</td>\n",
       "      <td>3</td>\n",
       "      <td>A</td>\n",
       "      <td>2023-01-01 00:00:03</td>\n",
       "      <td>user_2</td>\n",
       "      <td>session_3</td>\n",
       "    </tr>\n",
       "    <tr>\n",
       "      <th>4</th>\n",
       "      <td>31e35db3-fb38-4b9d-88d0-ece785e6dd31</td>\n",
       "      <td>raw</td>\n",
       "      <td>4</td>\n",
       "      <td>A</td>\n",
       "      <td>2023-01-01 00:00:04</td>\n",
       "      <td>user_2</td>\n",
       "      <td>session_3</td>\n",
       "    </tr>\n",
       "  </tbody>\n",
       "</table>\n",
       "</div>"
      ],
      "text/plain": [
       "                               event_id event_type  event_index event  \\\n",
       "0  97ff3f06-6593-4c7f-a5b6-040377d04ece        raw            0     A   \n",
       "1  97852c27-4b28-4ea0-8aa9-42ab8faf47d0        raw            1     B   \n",
       "2  c197d2ea-617f-4b13-b637-c1b9b70c6f57        raw            2     B   \n",
       "3  cbb49db3-b102-4e73-a974-11a142c72e98        raw            3     A   \n",
       "4  31e35db3-fb38-4b9d-88d0-ece785e6dd31        raw            4     A   \n",
       "\n",
       "            timestamp user_id session_id  \n",
       "0 2023-01-01 00:00:00  user_1  session_1  \n",
       "1 2023-01-01 00:00:01  user_1  session_1  \n",
       "2 2023-01-01 00:00:02  user_2  session_2  \n",
       "3 2023-01-01 00:00:03  user_2  session_3  \n",
       "4 2023-01-01 00:00:04  user_2  session_3  "
      ]
     },
     "execution_count": 10,
     "metadata": {},
     "output_type": "execute_result"
    }
   ],
   "source": [
    "stream3.to_dataframe()"
   ]
  },
  {
   "cell_type": "markdown",
   "metadata": {
    "id": "0En63MqeFDWP"
   },
   "source": [
    "## Eventstream index and reindex"
   ]
  },
  {
   "cell_type": "code",
   "execution_count": 11,
   "metadata": {
    "collapsed": false,
    "jupyter": {
     "outputs_hidden": false
    }
   },
   "outputs": [
    {
     "data": {
      "text/html": [
       "<div>\n",
       "<style scoped>\n",
       "    .dataframe tbody tr th:only-of-type {\n",
       "        vertical-align: middle;\n",
       "    }\n",
       "\n",
       "    .dataframe tbody tr th {\n",
       "        vertical-align: top;\n",
       "    }\n",
       "\n",
       "    .dataframe thead th {\n",
       "        text-align: right;\n",
       "    }\n",
       "</style>\n",
       "<table border=\"1\" class=\"dataframe\">\n",
       "  <thead>\n",
       "    <tr style=\"text-align: right;\">\n",
       "      <th></th>\n",
       "      <th>event_id</th>\n",
       "      <th>event_type</th>\n",
       "      <th>event_index</th>\n",
       "      <th>event</th>\n",
       "      <th>timestamp</th>\n",
       "      <th>user_id</th>\n",
       "    </tr>\n",
       "  </thead>\n",
       "  <tbody>\n",
       "    <tr>\n",
       "      <th>0</th>\n",
       "      <td>a1176281-859e-4a10-9cdb-2753093cd4b7</td>\n",
       "      <td>raw</td>\n",
       "      <td>0</td>\n",
       "      <td>A</td>\n",
       "      <td>2023-01-01 00:00:00</td>\n",
       "      <td>user_1</td>\n",
       "    </tr>\n",
       "    <tr>\n",
       "      <th>1</th>\n",
       "      <td>3249e407-9653-4381-b5d6-771df04f98c5</td>\n",
       "      <td>raw</td>\n",
       "      <td>1</td>\n",
       "      <td>B</td>\n",
       "      <td>2023-01-01 00:00:00</td>\n",
       "      <td>user_1</td>\n",
       "    </tr>\n",
       "    <tr>\n",
       "      <th>2</th>\n",
       "      <td>611fe1f0-906a-4165-ab38-d5f6189accfb</td>\n",
       "      <td>raw</td>\n",
       "      <td>2</td>\n",
       "      <td>B</td>\n",
       "      <td>2023-01-01 00:00:03</td>\n",
       "      <td>user_2</td>\n",
       "    </tr>\n",
       "    <tr>\n",
       "      <th>3</th>\n",
       "      <td>3c28b7c9-15c2-47b5-bc40-efcc0d802b1c</td>\n",
       "      <td>raw</td>\n",
       "      <td>3</td>\n",
       "      <td>A</td>\n",
       "      <td>2023-01-01 00:00:03</td>\n",
       "      <td>user_2</td>\n",
       "    </tr>\n",
       "    <tr>\n",
       "      <th>4</th>\n",
       "      <td>801f0ba6-a8ec-4963-a867-5c79440d2564</td>\n",
       "      <td>raw</td>\n",
       "      <td>4</td>\n",
       "      <td>A</td>\n",
       "      <td>2023-01-01 00:00:04</td>\n",
       "      <td>user_2</td>\n",
       "    </tr>\n",
       "  </tbody>\n",
       "</table>\n",
       "</div>"
      ],
      "text/plain": [
       "                               event_id event_type  event_index event  \\\n",
       "0  a1176281-859e-4a10-9cdb-2753093cd4b7        raw            0     A   \n",
       "1  3249e407-9653-4381-b5d6-771df04f98c5        raw            1     B   \n",
       "2  611fe1f0-906a-4165-ab38-d5f6189accfb        raw            2     B   \n",
       "3  3c28b7c9-15c2-47b5-bc40-efcc0d802b1c        raw            3     A   \n",
       "4  801f0ba6-a8ec-4963-a867-5c79440d2564        raw            4     A   \n",
       "\n",
       "            timestamp user_id  \n",
       "0 2023-01-01 00:00:00  user_1  \n",
       "1 2023-01-01 00:00:00  user_1  \n",
       "2 2023-01-01 00:00:03  user_2  \n",
       "3 2023-01-01 00:00:03  user_2  \n",
       "4 2023-01-01 00:00:04  user_2  "
      ]
     },
     "execution_count": 11,
     "metadata": {},
     "output_type": "execute_result"
    }
   ],
   "source": [
    "df4 = pd.DataFrame(\n",
    "    [\n",
    "        ['user_1', 'A', '2023-01-01 00:00:00'],\n",
    "        ['user_1', 'B', '2023-01-01 00:00:00'],\n",
    "        ['user_2', 'B', '2023-01-01 00:00:03'],\n",
    "        ['user_2', 'A', '2023-01-01 00:00:03'],\n",
    "        ['user_2', 'A', '2023-01-01 00:00:04']\n",
    "    ],\n",
    "    columns=['user_id', 'event', 'timestamp']\n",
    ")\n",
    "\n",
    "stream4 = Eventstream(df4)\n",
    "stream4.to_dataframe()"
   ]
  },
  {
   "cell_type": "code",
   "execution_count": 12,
   "metadata": {
    "collapsed": false,
    "jupyter": {
     "outputs_hidden": false
    }
   },
   "outputs": [
    {
     "data": {
      "text/html": [
       "<div>\n",
       "<style scoped>\n",
       "    .dataframe tbody tr th:only-of-type {\n",
       "        vertical-align: middle;\n",
       "    }\n",
       "\n",
       "    .dataframe tbody tr th {\n",
       "        vertical-align: top;\n",
       "    }\n",
       "\n",
       "    .dataframe thead th {\n",
       "        text-align: right;\n",
       "    }\n",
       "</style>\n",
       "<table border=\"1\" class=\"dataframe\">\n",
       "  <thead>\n",
       "    <tr style=\"text-align: right;\">\n",
       "      <th></th>\n",
       "      <th>event_id</th>\n",
       "      <th>event_type</th>\n",
       "      <th>event_index</th>\n",
       "      <th>event</th>\n",
       "      <th>timestamp</th>\n",
       "      <th>user_id</th>\n",
       "    </tr>\n",
       "  </thead>\n",
       "  <tbody>\n",
       "    <tr>\n",
       "      <th>0</th>\n",
       "      <td>c227811a-ad29-4fe9-adf2-2e1a97de1b22</td>\n",
       "      <td>raw</td>\n",
       "      <td>0</td>\n",
       "      <td>B</td>\n",
       "      <td>2023-01-01 00:00:00</td>\n",
       "      <td>user_1</td>\n",
       "    </tr>\n",
       "    <tr>\n",
       "      <th>1</th>\n",
       "      <td>898de74d-6c21-4d4c-a1db-10f8116283e8</td>\n",
       "      <td>raw</td>\n",
       "      <td>1</td>\n",
       "      <td>A</td>\n",
       "      <td>2023-01-01 00:00:00</td>\n",
       "      <td>user_1</td>\n",
       "    </tr>\n",
       "    <tr>\n",
       "      <th>2</th>\n",
       "      <td>ec2ea8bc-6420-4875-95ae-19c81eb384ba</td>\n",
       "      <td>raw</td>\n",
       "      <td>2</td>\n",
       "      <td>B</td>\n",
       "      <td>2023-01-01 00:00:03</td>\n",
       "      <td>user_2</td>\n",
       "    </tr>\n",
       "    <tr>\n",
       "      <th>3</th>\n",
       "      <td>99a4fab9-c2b0-4de5-b6d9-c0fa4981be18</td>\n",
       "      <td>raw</td>\n",
       "      <td>3</td>\n",
       "      <td>A</td>\n",
       "      <td>2023-01-01 00:00:03</td>\n",
       "      <td>user_2</td>\n",
       "    </tr>\n",
       "    <tr>\n",
       "      <th>4</th>\n",
       "      <td>398b378e-c9e5-4c5e-b18e-e51c05bfc5f3</td>\n",
       "      <td>raw</td>\n",
       "      <td>4</td>\n",
       "      <td>A</td>\n",
       "      <td>2023-01-01 00:00:04</td>\n",
       "      <td>user_2</td>\n",
       "    </tr>\n",
       "  </tbody>\n",
       "</table>\n",
       "</div>"
      ],
      "text/plain": [
       "                               event_id event_type  event_index event  \\\n",
       "0  c227811a-ad29-4fe9-adf2-2e1a97de1b22        raw            0     B   \n",
       "1  898de74d-6c21-4d4c-a1db-10f8116283e8        raw            1     A   \n",
       "2  ec2ea8bc-6420-4875-95ae-19c81eb384ba        raw            2     B   \n",
       "3  99a4fab9-c2b0-4de5-b6d9-c0fa4981be18        raw            3     A   \n",
       "4  398b378e-c9e5-4c5e-b18e-e51c05bfc5f3        raw            4     A   \n",
       "\n",
       "            timestamp user_id  \n",
       "0 2023-01-01 00:00:00  user_1  \n",
       "1 2023-01-01 00:00:00  user_1  \n",
       "2 2023-01-01 00:00:03  user_2  \n",
       "3 2023-01-01 00:00:03  user_2  \n",
       "4 2023-01-01 00:00:04  user_2  "
      ]
     },
     "execution_count": 12,
     "metadata": {},
     "output_type": "execute_result"
    }
   ],
   "source": [
    "Eventstream(df4, events_order=[\"B\", \"A\"]).to_dataframe()"
   ]
  },
  {
   "cell_type": "code",
   "execution_count": 13,
   "metadata": {
    "id": "Qye9ZuiJFgVZ"
   },
   "outputs": [],
   "source": [
    "IndexOrder = [\n",
    "    \"profile\",\n",
    "    \"path_start\",\n",
    "    \"new_user\",\n",
    "    \"existing_user\",\n",
    "    \"cropped_left\",\n",
    "    \"session_start\",\n",
    "    \"session_start_cropped\",\n",
    "    \"group_alias\",\n",
    "    \"raw\",\n",
    "    \"raw_sleep\",\n",
    "    None,\n",
    "    \"synthetic\",\n",
    "    \"synthetic_sleep\",\n",
    "    \"positive_target\",\n",
    "    \"negative_target\",\n",
    "    \"session_end_cropped\",\n",
    "    \"session_end\",\n",
    "    \"session_sleep\",\n",
    "    \"cropped_right\",\n",
    "    \"absent_user\",\n",
    "    \"lost_user\",\n",
    "    \"path_end\"\n",
    "]"
   ]
  },
  {
   "cell_type": "code",
   "execution_count": 14,
   "metadata": {
    "colab": {
     "base_uri": "https://localhost:8080/",
     "height": 489
    },
    "executionInfo": {
     "elapsed": 6,
     "status": "ok",
     "timestamp": 1682534665066,
     "user": {
      "displayName": "Anatoliy Zaykovskiy",
      "userId": "11710160701524337708"
     },
     "user_tz": -180
    },
    "id": "uHPBO_fsIKSC",
    "outputId": "1ded345e-fd0c-4b6c-e649-99b38293521f"
   },
   "outputs": [
    {
     "data": {
      "text/html": [
       "<div>\n",
       "<style scoped>\n",
       "    .dataframe tbody tr th:only-of-type {\n",
       "        vertical-align: middle;\n",
       "    }\n",
       "\n",
       "    .dataframe tbody tr th {\n",
       "        vertical-align: top;\n",
       "    }\n",
       "\n",
       "    .dataframe thead th {\n",
       "        text-align: right;\n",
       "    }\n",
       "</style>\n",
       "<table border=\"1\" class=\"dataframe\">\n",
       "  <thead>\n",
       "    <tr style=\"text-align: right;\">\n",
       "      <th></th>\n",
       "      <th>event_id</th>\n",
       "      <th>event_type</th>\n",
       "      <th>event_index</th>\n",
       "      <th>event</th>\n",
       "      <th>timestamp</th>\n",
       "      <th>user_id</th>\n",
       "    </tr>\n",
       "  </thead>\n",
       "  <tbody>\n",
       "    <tr>\n",
       "      <th>0</th>\n",
       "      <td>a1176281-859e-4a10-9cdb-2753093cd4b7</td>\n",
       "      <td>raw</td>\n",
       "      <td>0</td>\n",
       "      <td>A</td>\n",
       "      <td>2023-01-01 00:00:00</td>\n",
       "      <td>user_1</td>\n",
       "    </tr>\n",
       "    <tr>\n",
       "      <th>1</th>\n",
       "      <td>3249e407-9653-4381-b5d6-771df04f98c5</td>\n",
       "      <td>raw</td>\n",
       "      <td>1</td>\n",
       "      <td>B</td>\n",
       "      <td>2023-01-01 00:00:00</td>\n",
       "      <td>user_1</td>\n",
       "    </tr>\n",
       "    <tr>\n",
       "      <th>2</th>\n",
       "      <td>d5e048b4-4f86-4739-86a4-18909aa55818</td>\n",
       "      <td>positive_target</td>\n",
       "      <td>1</td>\n",
       "      <td>positive_target_B</td>\n",
       "      <td>2023-01-01 00:00:00</td>\n",
       "      <td>user_1</td>\n",
       "    </tr>\n",
       "    <tr>\n",
       "      <th>3</th>\n",
       "      <td>611fe1f0-906a-4165-ab38-d5f6189accfb</td>\n",
       "      <td>raw</td>\n",
       "      <td>2</td>\n",
       "      <td>B</td>\n",
       "      <td>2023-01-01 00:00:03</td>\n",
       "      <td>user_2</td>\n",
       "    </tr>\n",
       "    <tr>\n",
       "      <th>4</th>\n",
       "      <td>27d9398b-439a-4483-98be-45f09f5f1eaf</td>\n",
       "      <td>positive_target</td>\n",
       "      <td>2</td>\n",
       "      <td>positive_target_B</td>\n",
       "      <td>2023-01-01 00:00:03</td>\n",
       "      <td>user_2</td>\n",
       "    </tr>\n",
       "    <tr>\n",
       "      <th>5</th>\n",
       "      <td>3c28b7c9-15c2-47b5-bc40-efcc0d802b1c</td>\n",
       "      <td>raw</td>\n",
       "      <td>3</td>\n",
       "      <td>A</td>\n",
       "      <td>2023-01-01 00:00:03</td>\n",
       "      <td>user_2</td>\n",
       "    </tr>\n",
       "    <tr>\n",
       "      <th>6</th>\n",
       "      <td>801f0ba6-a8ec-4963-a867-5c79440d2564</td>\n",
       "      <td>raw</td>\n",
       "      <td>4</td>\n",
       "      <td>A</td>\n",
       "      <td>2023-01-01 00:00:04</td>\n",
       "      <td>user_2</td>\n",
       "    </tr>\n",
       "  </tbody>\n",
       "</table>\n",
       "</div>"
      ],
      "text/plain": [
       "                               event_id       event_type  event_index  \\\n",
       "0  a1176281-859e-4a10-9cdb-2753093cd4b7              raw            0   \n",
       "1  3249e407-9653-4381-b5d6-771df04f98c5              raw            1   \n",
       "2  d5e048b4-4f86-4739-86a4-18909aa55818  positive_target            1   \n",
       "3  611fe1f0-906a-4165-ab38-d5f6189accfb              raw            2   \n",
       "4  27d9398b-439a-4483-98be-45f09f5f1eaf  positive_target            2   \n",
       "5  3c28b7c9-15c2-47b5-bc40-efcc0d802b1c              raw            3   \n",
       "6  801f0ba6-a8ec-4963-a867-5c79440d2564              raw            4   \n",
       "\n",
       "               event           timestamp user_id  \n",
       "0                  A 2023-01-01 00:00:00  user_1  \n",
       "1                  B 2023-01-01 00:00:00  user_1  \n",
       "2  positive_target_B 2023-01-01 00:00:00  user_1  \n",
       "3                  B 2023-01-01 00:00:03  user_2  \n",
       "4  positive_target_B 2023-01-01 00:00:03  user_2  \n",
       "5                  A 2023-01-01 00:00:03  user_2  \n",
       "6                  A 2023-01-01 00:00:04  user_2  "
      ]
     },
     "execution_count": 14,
     "metadata": {},
     "output_type": "execute_result"
    }
   ],
   "source": [
    "add_events_stream = stream4.add_positive_events(targets=['B'])\n",
    "add_events_stream.to_dataframe()"
   ]
  },
  {
   "cell_type": "code",
   "execution_count": 15,
   "metadata": {
    "colab": {
     "base_uri": "https://localhost:8080/",
     "height": 434
    },
    "executionInfo": {
     "elapsed": 6,
     "status": "ok",
     "timestamp": 1682534703220,
     "user": {
      "displayName": "Anatoliy Zaykovskiy",
      "userId": "11710160701524337708"
     },
     "user_tz": -180
    },
    "id": "eLBIvTv5Icy6",
    "outputId": "45d16359-284f-4471-90c8-61cd9471ad47"
   },
   "outputs": [
    {
     "data": {
      "text/html": [
       "<div>\n",
       "<style scoped>\n",
       "    .dataframe tbody tr th:only-of-type {\n",
       "        vertical-align: middle;\n",
       "    }\n",
       "\n",
       "    .dataframe tbody tr th {\n",
       "        vertical-align: top;\n",
       "    }\n",
       "\n",
       "    .dataframe thead th {\n",
       "        text-align: right;\n",
       "    }\n",
       "</style>\n",
       "<table border=\"1\" class=\"dataframe\">\n",
       "  <thead>\n",
       "    <tr style=\"text-align: right;\">\n",
       "      <th></th>\n",
       "      <th>event_id</th>\n",
       "      <th>event_type</th>\n",
       "      <th>event_index</th>\n",
       "      <th>event</th>\n",
       "      <th>timestamp</th>\n",
       "      <th>user_id</th>\n",
       "    </tr>\n",
       "  </thead>\n",
       "  <tbody>\n",
       "    <tr>\n",
       "      <th>0</th>\n",
       "      <td>a1176281-859e-4a10-9cdb-2753093cd4b7</td>\n",
       "      <td>raw</td>\n",
       "      <td>0</td>\n",
       "      <td>A</td>\n",
       "      <td>2023-01-01 00:00:00</td>\n",
       "      <td>user_1</td>\n",
       "    </tr>\n",
       "    <tr>\n",
       "      <th>1</th>\n",
       "      <td>d5e048b4-4f86-4739-86a4-18909aa55818</td>\n",
       "      <td>positive_target</td>\n",
       "      <td>1</td>\n",
       "      <td>positive_target_B</td>\n",
       "      <td>2023-01-01 00:00:00</td>\n",
       "      <td>user_1</td>\n",
       "    </tr>\n",
       "    <tr>\n",
       "      <th>2</th>\n",
       "      <td>3249e407-9653-4381-b5d6-771df04f98c5</td>\n",
       "      <td>raw</td>\n",
       "      <td>1</td>\n",
       "      <td>B</td>\n",
       "      <td>2023-01-01 00:00:00</td>\n",
       "      <td>user_1</td>\n",
       "    </tr>\n",
       "    <tr>\n",
       "      <th>3</th>\n",
       "      <td>27d9398b-439a-4483-98be-45f09f5f1eaf</td>\n",
       "      <td>positive_target</td>\n",
       "      <td>2</td>\n",
       "      <td>positive_target_B</td>\n",
       "      <td>2023-01-01 00:00:03</td>\n",
       "      <td>user_2</td>\n",
       "    </tr>\n",
       "    <tr>\n",
       "      <th>4</th>\n",
       "      <td>611fe1f0-906a-4165-ab38-d5f6189accfb</td>\n",
       "      <td>raw</td>\n",
       "      <td>2</td>\n",
       "      <td>B</td>\n",
       "      <td>2023-01-01 00:00:03</td>\n",
       "      <td>user_2</td>\n",
       "    </tr>\n",
       "    <tr>\n",
       "      <th>5</th>\n",
       "      <td>3c28b7c9-15c2-47b5-bc40-efcc0d802b1c</td>\n",
       "      <td>raw</td>\n",
       "      <td>3</td>\n",
       "      <td>A</td>\n",
       "      <td>2023-01-01 00:00:03</td>\n",
       "      <td>user_2</td>\n",
       "    </tr>\n",
       "    <tr>\n",
       "      <th>6</th>\n",
       "      <td>801f0ba6-a8ec-4963-a867-5c79440d2564</td>\n",
       "      <td>raw</td>\n",
       "      <td>4</td>\n",
       "      <td>A</td>\n",
       "      <td>2023-01-01 00:00:04</td>\n",
       "      <td>user_2</td>\n",
       "    </tr>\n",
       "  </tbody>\n",
       "</table>\n",
       "</div>"
      ],
      "text/plain": [
       "                               event_id       event_type  event_index  \\\n",
       "0  a1176281-859e-4a10-9cdb-2753093cd4b7              raw            0   \n",
       "1  d5e048b4-4f86-4739-86a4-18909aa55818  positive_target            1   \n",
       "2  3249e407-9653-4381-b5d6-771df04f98c5              raw            1   \n",
       "3  27d9398b-439a-4483-98be-45f09f5f1eaf  positive_target            2   \n",
       "4  611fe1f0-906a-4165-ab38-d5f6189accfb              raw            2   \n",
       "5  3c28b7c9-15c2-47b5-bc40-efcc0d802b1c              raw            3   \n",
       "6  801f0ba6-a8ec-4963-a867-5c79440d2564              raw            4   \n",
       "\n",
       "               event           timestamp user_id  \n",
       "0                  A 2023-01-01 00:00:00  user_1  \n",
       "1  positive_target_B 2023-01-01 00:00:00  user_1  \n",
       "2                  B 2023-01-01 00:00:00  user_1  \n",
       "3  positive_target_B 2023-01-01 00:00:03  user_2  \n",
       "4                  B 2023-01-01 00:00:03  user_2  \n",
       "5                  A 2023-01-01 00:00:03  user_2  \n",
       "6                  A 2023-01-01 00:00:04  user_2  "
      ]
     },
     "execution_count": 15,
     "metadata": {},
     "output_type": "execute_result"
    }
   ],
   "source": [
    "custom_sorting = [\n",
    "    'profile',\n",
    "    'path_start',\n",
    "    'new_user',\n",
    "    'existing_user',\n",
    "    'cropped_left',\n",
    "    'session_start',\n",
    "    'session_start_cropped',\n",
    "    'group_alias',\n",
    "    'positive_target',\n",
    "    'raw',\n",
    "    'raw_sleep',\n",
    "    None,\n",
    "    'synthetic',\n",
    "    'synthetic_sleep',\n",
    "    'negative_target',\n",
    "    'session_end_cropped',\n",
    "    'session_end',\n",
    "    'session_sleep',\n",
    "    'cropped_right',\n",
    "    'absent_user',\n",
    "    'lost_user',\n",
    "    'path_end'\n",
    "]\n",
    "\n",
    "add_events_stream.index_order = custom_sorting\n",
    "add_events_stream.index_events()\n",
    "add_events_stream.to_dataframe()"
   ]
  },
  {
   "cell_type": "markdown",
   "metadata": {
    "id": "bGmRhXMhSCS8"
   },
   "source": [
    "## Descriptive methods"
   ]
  },
  {
   "cell_type": "code",
   "execution_count": 16,
   "metadata": {
    "colab": {
     "base_uri": "https://localhost:8080/",
     "height": 337
    },
    "executionInfo": {
     "elapsed": 1442,
     "status": "ok",
     "timestamp": 1682534832955,
     "user": {
      "displayName": "Anatoliy Zaykovskiy",
      "userId": "11710160701524337708"
     },
     "user_tz": -180
    },
    "id": "d1RZ51Hd1C_w",
    "outputId": "dee65fdf-c5ca-48f3-e1e2-425d54cd18be"
   },
   "outputs": [
    {
     "data": {
      "text/html": [
       "<div>\n",
       "<style scoped>\n",
       "    .dataframe tbody tr th:only-of-type {\n",
       "        vertical-align: middle;\n",
       "    }\n",
       "\n",
       "    .dataframe tbody tr th {\n",
       "        vertical-align: top;\n",
       "    }\n",
       "\n",
       "    .dataframe thead th {\n",
       "        text-align: right;\n",
       "    }\n",
       "</style>\n",
       "<table border=\"1\" class=\"dataframe\">\n",
       "  <thead>\n",
       "    <tr style=\"text-align: right;\">\n",
       "      <th></th>\n",
       "      <th>event_id</th>\n",
       "      <th>event_type</th>\n",
       "      <th>event_index</th>\n",
       "      <th>event</th>\n",
       "      <th>timestamp</th>\n",
       "      <th>user_id</th>\n",
       "      <th>session_id</th>\n",
       "    </tr>\n",
       "  </thead>\n",
       "  <tbody>\n",
       "    <tr>\n",
       "      <th>0</th>\n",
       "      <td>5be7ea13-10cf-4425-8bd5-4946239c6875</td>\n",
       "      <td>session_start</td>\n",
       "      <td>0</td>\n",
       "      <td>session_start</td>\n",
       "      <td>2019-11-01 17:59:13.273932</td>\n",
       "      <td>219483890</td>\n",
       "      <td>219483890_1</td>\n",
       "    </tr>\n",
       "    <tr>\n",
       "      <th>1</th>\n",
       "      <td>44a8a07b-b045-49e1-bbc8-ffe02aea0ed8</td>\n",
       "      <td>raw</td>\n",
       "      <td>0</td>\n",
       "      <td>catalog</td>\n",
       "      <td>2019-11-01 17:59:13.273932</td>\n",
       "      <td>219483890</td>\n",
       "      <td>219483890_1</td>\n",
       "    </tr>\n",
       "    <tr>\n",
       "      <th>2</th>\n",
       "      <td>39f580c0-ac9f-4b18-9192-fc16ca5dc52c</td>\n",
       "      <td>raw</td>\n",
       "      <td>1</td>\n",
       "      <td>product1</td>\n",
       "      <td>2019-11-01 17:59:28.459271</td>\n",
       "      <td>219483890</td>\n",
       "      <td>219483890_1</td>\n",
       "    </tr>\n",
       "    <tr>\n",
       "      <th>3</th>\n",
       "      <td>06f1f986-f3ce-4972-b0fd-42962e4deaec</td>\n",
       "      <td>raw</td>\n",
       "      <td>2</td>\n",
       "      <td>cart</td>\n",
       "      <td>2019-11-01 17:59:29.502214</td>\n",
       "      <td>219483890</td>\n",
       "      <td>219483890_1</td>\n",
       "    </tr>\n",
       "    <tr>\n",
       "      <th>4</th>\n",
       "      <td>df7ed498-ff1d-4053-b989-fec179f3eeaf</td>\n",
       "      <td>raw</td>\n",
       "      <td>3</td>\n",
       "      <td>catalog</td>\n",
       "      <td>2019-11-01 17:59:32.557029</td>\n",
       "      <td>219483890</td>\n",
       "      <td>219483890_1</td>\n",
       "    </tr>\n",
       "  </tbody>\n",
       "</table>\n",
       "</div>"
      ],
      "text/plain": [
       "                               event_id     event_type  event_index  \\\n",
       "0  5be7ea13-10cf-4425-8bd5-4946239c6875  session_start            0   \n",
       "1  44a8a07b-b045-49e1-bbc8-ffe02aea0ed8            raw            0   \n",
       "2  39f580c0-ac9f-4b18-9192-fc16ca5dc52c            raw            1   \n",
       "3  06f1f986-f3ce-4972-b0fd-42962e4deaec            raw            2   \n",
       "4  df7ed498-ff1d-4053-b989-fec179f3eeaf            raw            3   \n",
       "\n",
       "           event                  timestamp    user_id   session_id  \n",
       "0  session_start 2019-11-01 17:59:13.273932  219483890  219483890_1  \n",
       "1        catalog 2019-11-01 17:59:13.273932  219483890  219483890_1  \n",
       "2       product1 2019-11-01 17:59:28.459271  219483890  219483890_1  \n",
       "3           cart 2019-11-01 17:59:29.502214  219483890  219483890_1  \n",
       "4        catalog 2019-11-01 17:59:32.557029  219483890  219483890_1  "
      ]
     },
     "execution_count": 16,
     "metadata": {},
     "output_type": "execute_result"
    }
   ],
   "source": [
    "from retentioneering import datasets\n",
    "\n",
    "stream_with_sessions = datasets\\\n",
    "    .load_simple_shop()\\\n",
    "    .split_sessions(timeout=(30, 'm'))\n",
    "\n",
    "stream_with_sessions.to_dataframe().head()"
   ]
  },
  {
   "cell_type": "markdown",
   "metadata": {
    "id": "w9SLW02d1Nk6"
   },
   "source": [
    "### General statistics"
   ]
  },
  {
   "cell_type": "markdown",
   "metadata": {
    "id": "NHe2F9OXJjaE"
   },
   "source": [
    "#### Describe"
   ]
  },
  {
   "cell_type": "code",
   "execution_count": 17,
   "metadata": {
    "colab": {
     "base_uri": "https://localhost:8080/",
     "height": 896
    },
    "executionInfo": {
     "elapsed": 8,
     "status": "ok",
     "timestamp": 1682534895622,
     "user": {
      "displayName": "Anatoliy Zaykovskiy",
      "userId": "11710160701524337708"
     },
     "user_tz": -180
    },
    "id": "1KB_Nfs34LEJ",
    "outputId": "baf72aae-20aa-4371-c5ed-3db16de51168"
   },
   "outputs": [
    {
     "data": {
      "text/html": [
       "<div>\n",
       "<style scoped>\n",
       "    .dataframe tbody tr th:only-of-type {\n",
       "        vertical-align: middle;\n",
       "    }\n",
       "\n",
       "    .dataframe tbody tr th {\n",
       "        vertical-align: top;\n",
       "    }\n",
       "\n",
       "    .dataframe thead th {\n",
       "        text-align: right;\n",
       "    }\n",
       "</style>\n",
       "<table border=\"1\" class=\"dataframe\">\n",
       "  <thead>\n",
       "    <tr style=\"text-align: right;\">\n",
       "      <th></th>\n",
       "      <th></th>\n",
       "      <th>value</th>\n",
       "    </tr>\n",
       "    <tr>\n",
       "      <th>category</th>\n",
       "      <th>metric</th>\n",
       "      <th></th>\n",
       "    </tr>\n",
       "  </thead>\n",
       "  <tbody>\n",
       "    <tr>\n",
       "      <th rowspan=\"6\" valign=\"top\">overall</th>\n",
       "      <th>unique_users</th>\n",
       "      <td>3751</td>\n",
       "    </tr>\n",
       "    <tr>\n",
       "      <th>unique_events</th>\n",
       "      <td>14</td>\n",
       "    </tr>\n",
       "    <tr>\n",
       "      <th>unique_sessions</th>\n",
       "      <td>6454</td>\n",
       "    </tr>\n",
       "    <tr>\n",
       "      <th>eventstream_start</th>\n",
       "      <td>2019-11-01 17:59:13</td>\n",
       "    </tr>\n",
       "    <tr>\n",
       "      <th>eventstream_end</th>\n",
       "      <td>2020-04-29 12:48:07</td>\n",
       "    </tr>\n",
       "    <tr>\n",
       "      <th>eventstream_length</th>\n",
       "      <td>179 days 18:48:53</td>\n",
       "    </tr>\n",
       "    <tr>\n",
       "      <th rowspan=\"5\" valign=\"top\">path_length_time</th>\n",
       "      <th>mean</th>\n",
       "      <td>9 days 11:15:18</td>\n",
       "    </tr>\n",
       "    <tr>\n",
       "      <th>std</th>\n",
       "      <td>23 days 02:52:25</td>\n",
       "    </tr>\n",
       "    <tr>\n",
       "      <th>median</th>\n",
       "      <td>0 days 00:01:21</td>\n",
       "    </tr>\n",
       "    <tr>\n",
       "      <th>min</th>\n",
       "      <td>0 days 00:00:00</td>\n",
       "    </tr>\n",
       "    <tr>\n",
       "      <th>max</th>\n",
       "      <td>149 days 04:51:05</td>\n",
       "    </tr>\n",
       "    <tr>\n",
       "      <th rowspan=\"5\" valign=\"top\">path_length_steps</th>\n",
       "      <th>mean</th>\n",
       "      <td>12.05</td>\n",
       "    </tr>\n",
       "    <tr>\n",
       "      <th>std</th>\n",
       "      <td>11.43</td>\n",
       "    </tr>\n",
       "    <tr>\n",
       "      <th>median</th>\n",
       "      <td>9.0</td>\n",
       "    </tr>\n",
       "    <tr>\n",
       "      <th>min</th>\n",
       "      <td>3</td>\n",
       "    </tr>\n",
       "    <tr>\n",
       "      <th>max</th>\n",
       "      <td>122</td>\n",
       "    </tr>\n",
       "    <tr>\n",
       "      <th rowspan=\"5\" valign=\"top\">session_length_time</th>\n",
       "      <th>mean</th>\n",
       "      <td>0 days 00:00:52</td>\n",
       "    </tr>\n",
       "    <tr>\n",
       "      <th>std</th>\n",
       "      <td>0 days 00:01:08</td>\n",
       "    </tr>\n",
       "    <tr>\n",
       "      <th>median</th>\n",
       "      <td>0 days 00:00:30</td>\n",
       "    </tr>\n",
       "    <tr>\n",
       "      <th>min</th>\n",
       "      <td>0 days 00:00:00</td>\n",
       "    </tr>\n",
       "    <tr>\n",
       "      <th>max</th>\n",
       "      <td>0 days 00:23:44</td>\n",
       "    </tr>\n",
       "    <tr>\n",
       "      <th rowspan=\"5\" valign=\"top\">session_length_steps</th>\n",
       "      <th>mean</th>\n",
       "      <td>7.0</td>\n",
       "    </tr>\n",
       "    <tr>\n",
       "      <th>std</th>\n",
       "      <td>4.18</td>\n",
       "    </tr>\n",
       "    <tr>\n",
       "      <th>median</th>\n",
       "      <td>6.0</td>\n",
       "    </tr>\n",
       "    <tr>\n",
       "      <th>min</th>\n",
       "      <td>3</td>\n",
       "    </tr>\n",
       "    <tr>\n",
       "      <th>max</th>\n",
       "      <td>55</td>\n",
       "    </tr>\n",
       "  </tbody>\n",
       "</table>\n",
       "</div>"
      ],
      "text/plain": [
       "                                                       value\n",
       "category             metric                                 \n",
       "overall              unique_users                       3751\n",
       "                     unique_events                        14\n",
       "                     unique_sessions                    6454\n",
       "                     eventstream_start   2019-11-01 17:59:13\n",
       "                     eventstream_end     2020-04-29 12:48:07\n",
       "                     eventstream_length    179 days 18:48:53\n",
       "path_length_time     mean                    9 days 11:15:18\n",
       "                     std                    23 days 02:52:25\n",
       "                     median                  0 days 00:01:21\n",
       "                     min                     0 days 00:00:00\n",
       "                     max                   149 days 04:51:05\n",
       "path_length_steps    mean                              12.05\n",
       "                     std                               11.43\n",
       "                     median                              9.0\n",
       "                     min                                   3\n",
       "                     max                                 122\n",
       "session_length_time  mean                    0 days 00:00:52\n",
       "                     std                     0 days 00:01:08\n",
       "                     median                  0 days 00:00:30\n",
       "                     min                     0 days 00:00:00\n",
       "                     max                     0 days 00:23:44\n",
       "session_length_steps mean                                7.0\n",
       "                     std                                4.18\n",
       "                     median                              6.0\n",
       "                     min                                   3\n",
       "                     max                                  55"
      ]
     },
     "execution_count": 17,
     "metadata": {},
     "output_type": "execute_result"
    }
   ],
   "source": [
    "stream_with_sessions.describe()"
   ]
  },
  {
   "cell_type": "markdown",
   "metadata": {
    "id": "7q6kjYjdMIgz"
   },
   "source": [
    "#### Describe events\n"
   ]
  },
  {
   "cell_type": "code",
   "execution_count": 18,
   "metadata": {
    "colab": {
     "base_uri": "https://localhost:8080/",
     "height": 952
    },
    "executionInfo": {
     "elapsed": 650,
     "status": "ok",
     "timestamp": 1682535411485,
     "user": {
      "displayName": "Anatoliy Zaykovskiy",
      "userId": "11710160701524337708"
     },
     "user_tz": -180
    },
    "id": "9SkeBrB1Nr6m",
    "outputId": "6aafafa7-30c3-4d22-98df-da2237c87650"
   },
   "outputs": [
    {
     "data": {
      "text/html": [
       "<div>\n",
       "<style scoped>\n",
       "    .dataframe tbody tr th:only-of-type {\n",
       "        vertical-align: middle;\n",
       "    }\n",
       "\n",
       "    .dataframe tbody tr th {\n",
       "        vertical-align: top;\n",
       "    }\n",
       "\n",
       "    .dataframe thead tr th {\n",
       "        text-align: left;\n",
       "    }\n",
       "\n",
       "    .dataframe thead tr:last-of-type th {\n",
       "        text-align: right;\n",
       "    }\n",
       "</style>\n",
       "<table border=\"1\" class=\"dataframe\">\n",
       "  <thead>\n",
       "    <tr>\n",
       "      <th></th>\n",
       "      <th colspan=\"4\" halign=\"left\">basic_statistics</th>\n",
       "      <th colspan=\"5\" halign=\"left\">time_to_FO_user_wise</th>\n",
       "      <th colspan=\"5\" halign=\"left\">steps_to_FO_user_wise</th>\n",
       "    </tr>\n",
       "    <tr>\n",
       "      <th></th>\n",
       "      <th>number_of_occurrences</th>\n",
       "      <th>unique_users</th>\n",
       "      <th>number_of_occurrences_shared</th>\n",
       "      <th>unique_users_shared</th>\n",
       "      <th>mean</th>\n",
       "      <th>std</th>\n",
       "      <th>median</th>\n",
       "      <th>min</th>\n",
       "      <th>max</th>\n",
       "      <th>mean</th>\n",
       "      <th>std</th>\n",
       "      <th>median</th>\n",
       "      <th>min</th>\n",
       "      <th>max</th>\n",
       "    </tr>\n",
       "    <tr>\n",
       "      <th>event</th>\n",
       "      <th></th>\n",
       "      <th></th>\n",
       "      <th></th>\n",
       "      <th></th>\n",
       "      <th></th>\n",
       "      <th></th>\n",
       "      <th></th>\n",
       "      <th></th>\n",
       "      <th></th>\n",
       "      <th></th>\n",
       "      <th></th>\n",
       "      <th></th>\n",
       "      <th></th>\n",
       "      <th></th>\n",
       "    </tr>\n",
       "  </thead>\n",
       "  <tbody>\n",
       "    <tr>\n",
       "      <th>cart</th>\n",
       "      <td>2842</td>\n",
       "      <td>1924</td>\n",
       "      <td>0.09</td>\n",
       "      <td>0.51</td>\n",
       "      <td>3 days 08:59:14</td>\n",
       "      <td>11 days 19:28:46</td>\n",
       "      <td>0 days 00:00:56</td>\n",
       "      <td>0 days 00:00:01</td>\n",
       "      <td>118 days 16:11:36</td>\n",
       "      <td>4.51</td>\n",
       "      <td>4.09</td>\n",
       "      <td>3.0</td>\n",
       "      <td>1</td>\n",
       "      <td>41</td>\n",
       "    </tr>\n",
       "    <tr>\n",
       "      <th>catalog</th>\n",
       "      <td>14518</td>\n",
       "      <td>3611</td>\n",
       "      <td>0.45</td>\n",
       "      <td>0.96</td>\n",
       "      <td>0 days 05:44:21</td>\n",
       "      <td>3 days 03:22:32</td>\n",
       "      <td>0 days 00:00:00</td>\n",
       "      <td>0 days 00:00:00</td>\n",
       "      <td>100 days 08:19:51</td>\n",
       "      <td>0.30</td>\n",
       "      <td>0.57</td>\n",
       "      <td>0.0</td>\n",
       "      <td>0</td>\n",
       "      <td>7</td>\n",
       "    </tr>\n",
       "    <tr>\n",
       "      <th>delivery_choice</th>\n",
       "      <td>1686</td>\n",
       "      <td>1356</td>\n",
       "      <td>0.05</td>\n",
       "      <td>0.36</td>\n",
       "      <td>5 days 09:18:08</td>\n",
       "      <td>15 days 03:19:15</td>\n",
       "      <td>0 days 00:01:12</td>\n",
       "      <td>0 days 00:00:03</td>\n",
       "      <td>118 days 16:11:37</td>\n",
       "      <td>6.78</td>\n",
       "      <td>5.56</td>\n",
       "      <td>5.0</td>\n",
       "      <td>2</td>\n",
       "      <td>49</td>\n",
       "    </tr>\n",
       "    <tr>\n",
       "      <th>delivery_courier</th>\n",
       "      <td>834</td>\n",
       "      <td>748</td>\n",
       "      <td>0.03</td>\n",
       "      <td>0.20</td>\n",
       "      <td>6 days 18:14:55</td>\n",
       "      <td>16 days 17:51:39</td>\n",
       "      <td>0 days 00:01:28</td>\n",
       "      <td>0 days 00:00:06</td>\n",
       "      <td>118 days 16:11:38</td>\n",
       "      <td>8.96</td>\n",
       "      <td>6.84</td>\n",
       "      <td>7.0</td>\n",
       "      <td>3</td>\n",
       "      <td>45</td>\n",
       "    </tr>\n",
       "    <tr>\n",
       "      <th>delivery_pickup</th>\n",
       "      <td>506</td>\n",
       "      <td>469</td>\n",
       "      <td>0.02</td>\n",
       "      <td>0.13</td>\n",
       "      <td>7 days 21:12:17</td>\n",
       "      <td>18 days 22:51:54</td>\n",
       "      <td>0 days 00:01:34</td>\n",
       "      <td>0 days 00:00:06</td>\n",
       "      <td>114 days 01:24:06</td>\n",
       "      <td>9.51</td>\n",
       "      <td>8.06</td>\n",
       "      <td>7.0</td>\n",
       "      <td>3</td>\n",
       "      <td>71</td>\n",
       "    </tr>\n",
       "    <tr>\n",
       "      <th>main</th>\n",
       "      <td>5635</td>\n",
       "      <td>2385</td>\n",
       "      <td>0.17</td>\n",
       "      <td>0.64</td>\n",
       "      <td>3 days 20:15:36</td>\n",
       "      <td>9 days 02:58:23</td>\n",
       "      <td>0 days 00:00:07</td>\n",
       "      <td>0 days 00:00:00</td>\n",
       "      <td>97 days 21:24:23</td>\n",
       "      <td>2.00</td>\n",
       "      <td>2.94</td>\n",
       "      <td>1.0</td>\n",
       "      <td>0</td>\n",
       "      <td>20</td>\n",
       "    </tr>\n",
       "    <tr>\n",
       "      <th>payment_card</th>\n",
       "      <td>565</td>\n",
       "      <td>521</td>\n",
       "      <td>0.02</td>\n",
       "      <td>0.14</td>\n",
       "      <td>6 days 21:42:26</td>\n",
       "      <td>17 days 18:52:33</td>\n",
       "      <td>0 days 00:01:40</td>\n",
       "      <td>0 days 00:00:08</td>\n",
       "      <td>138 days 04:51:25</td>\n",
       "      <td>11.14</td>\n",
       "      <td>7.34</td>\n",
       "      <td>9.0</td>\n",
       "      <td>5</td>\n",
       "      <td>65</td>\n",
       "    </tr>\n",
       "    <tr>\n",
       "      <th>payment_cash</th>\n",
       "      <td>197</td>\n",
       "      <td>190</td>\n",
       "      <td>0.01</td>\n",
       "      <td>0.05</td>\n",
       "      <td>13 days 23:17:25</td>\n",
       "      <td>24 days 00:00:02</td>\n",
       "      <td>0 days 00:02:18</td>\n",
       "      <td>0 days 00:00:10</td>\n",
       "      <td>118 days 16:11:39</td>\n",
       "      <td>14.15</td>\n",
       "      <td>11.10</td>\n",
       "      <td>9.5</td>\n",
       "      <td>5</td>\n",
       "      <td>73</td>\n",
       "    </tr>\n",
       "    <tr>\n",
       "      <th>payment_choice</th>\n",
       "      <td>1107</td>\n",
       "      <td>958</td>\n",
       "      <td>0.03</td>\n",
       "      <td>0.26</td>\n",
       "      <td>6 days 12:49:38</td>\n",
       "      <td>17 days 02:54:51</td>\n",
       "      <td>0 days 00:01:24</td>\n",
       "      <td>0 days 00:00:06</td>\n",
       "      <td>118 days 16:11:39</td>\n",
       "      <td>9.42</td>\n",
       "      <td>6.37</td>\n",
       "      <td>7.0</td>\n",
       "      <td>4</td>\n",
       "      <td>52</td>\n",
       "    </tr>\n",
       "    <tr>\n",
       "      <th>payment_done</th>\n",
       "      <td>706</td>\n",
       "      <td>653</td>\n",
       "      <td>0.02</td>\n",
       "      <td>0.17</td>\n",
       "      <td>7 days 01:37:54</td>\n",
       "      <td>17 days 09:10:00</td>\n",
       "      <td>0 days 00:01:34</td>\n",
       "      <td>0 days 00:00:08</td>\n",
       "      <td>115 days 09:18:59</td>\n",
       "      <td>12.21</td>\n",
       "      <td>8.29</td>\n",
       "      <td>10.0</td>\n",
       "      <td>5</td>\n",
       "      <td>84</td>\n",
       "    </tr>\n",
       "    <tr>\n",
       "      <th>product1</th>\n",
       "      <td>1515</td>\n",
       "      <td>1122</td>\n",
       "      <td>0.05</td>\n",
       "      <td>0.30</td>\n",
       "      <td>5 days 23:49:43</td>\n",
       "      <td>16 days 04:36:13</td>\n",
       "      <td>0 days 00:00:50</td>\n",
       "      <td>0 days 00:00:00</td>\n",
       "      <td>118 days 19:38:40</td>\n",
       "      <td>5.46</td>\n",
       "      <td>6.04</td>\n",
       "      <td>3.0</td>\n",
       "      <td>1</td>\n",
       "      <td>61</td>\n",
       "    </tr>\n",
       "    <tr>\n",
       "      <th>product2</th>\n",
       "      <td>2172</td>\n",
       "      <td>1430</td>\n",
       "      <td>0.07</td>\n",
       "      <td>0.38</td>\n",
       "      <td>4 days 06:13:24</td>\n",
       "      <td>13 days 03:26:17</td>\n",
       "      <td>0 days 00:00:34</td>\n",
       "      <td>0 days 00:00:00</td>\n",
       "      <td>126 days 23:36:45</td>\n",
       "      <td>4.32</td>\n",
       "      <td>4.51</td>\n",
       "      <td>3.0</td>\n",
       "      <td>1</td>\n",
       "      <td>36</td>\n",
       "    </tr>\n",
       "  </tbody>\n",
       "</table>\n",
       "</div>"
      ],
      "text/plain": [
       "                      basic_statistics               \\\n",
       "                 number_of_occurrences unique_users   \n",
       "event                                                 \n",
       "cart                              2842         1924   \n",
       "catalog                          14518         3611   \n",
       "delivery_choice                   1686         1356   \n",
       "delivery_courier                   834          748   \n",
       "delivery_pickup                    506          469   \n",
       "main                              5635         2385   \n",
       "payment_card                       565          521   \n",
       "payment_cash                       197          190   \n",
       "payment_choice                    1107          958   \n",
       "payment_done                       706          653   \n",
       "product1                          1515         1122   \n",
       "product2                          2172         1430   \n",
       "\n",
       "                                                                   \\\n",
       "                 number_of_occurrences_shared unique_users_shared   \n",
       "event                                                               \n",
       "cart                                     0.09                0.51   \n",
       "catalog                                  0.45                0.96   \n",
       "delivery_choice                          0.05                0.36   \n",
       "delivery_courier                         0.03                0.20   \n",
       "delivery_pickup                          0.02                0.13   \n",
       "main                                     0.17                0.64   \n",
       "payment_card                             0.02                0.14   \n",
       "payment_cash                             0.01                0.05   \n",
       "payment_choice                           0.03                0.26   \n",
       "payment_done                             0.02                0.17   \n",
       "product1                                 0.05                0.30   \n",
       "product2                                 0.07                0.38   \n",
       "\n",
       "                 time_to_FO_user_wise                                   \\\n",
       "                                 mean              std          median   \n",
       "event                                                                    \n",
       "cart                  3 days 08:59:14 11 days 19:28:46 0 days 00:00:56   \n",
       "catalog               0 days 05:44:21  3 days 03:22:32 0 days 00:00:00   \n",
       "delivery_choice       5 days 09:18:08 15 days 03:19:15 0 days 00:01:12   \n",
       "delivery_courier      6 days 18:14:55 16 days 17:51:39 0 days 00:01:28   \n",
       "delivery_pickup       7 days 21:12:17 18 days 22:51:54 0 days 00:01:34   \n",
       "main                  3 days 20:15:36  9 days 02:58:23 0 days 00:00:07   \n",
       "payment_card          6 days 21:42:26 17 days 18:52:33 0 days 00:01:40   \n",
       "payment_cash         13 days 23:17:25 24 days 00:00:02 0 days 00:02:18   \n",
       "payment_choice        6 days 12:49:38 17 days 02:54:51 0 days 00:01:24   \n",
       "payment_done          7 days 01:37:54 17 days 09:10:00 0 days 00:01:34   \n",
       "product1              5 days 23:49:43 16 days 04:36:13 0 days 00:00:50   \n",
       "product2              4 days 06:13:24 13 days 03:26:17 0 days 00:00:34   \n",
       "\n",
       "                                                   steps_to_FO_user_wise  \\\n",
       "                             min               max                  mean   \n",
       "event                                                                      \n",
       "cart             0 days 00:00:01 118 days 16:11:36                  4.51   \n",
       "catalog          0 days 00:00:00 100 days 08:19:51                  0.30   \n",
       "delivery_choice  0 days 00:00:03 118 days 16:11:37                  6.78   \n",
       "delivery_courier 0 days 00:00:06 118 days 16:11:38                  8.96   \n",
       "delivery_pickup  0 days 00:00:06 114 days 01:24:06                  9.51   \n",
       "main             0 days 00:00:00  97 days 21:24:23                  2.00   \n",
       "payment_card     0 days 00:00:08 138 days 04:51:25                 11.14   \n",
       "payment_cash     0 days 00:00:10 118 days 16:11:39                 14.15   \n",
       "payment_choice   0 days 00:00:06 118 days 16:11:39                  9.42   \n",
       "payment_done     0 days 00:00:08 115 days 09:18:59                 12.21   \n",
       "product1         0 days 00:00:00 118 days 19:38:40                  5.46   \n",
       "product2         0 days 00:00:00 126 days 23:36:45                  4.32   \n",
       "\n",
       "                                        \n",
       "                    std median min max  \n",
       "event                                   \n",
       "cart               4.09    3.0   1  41  \n",
       "catalog            0.57    0.0   0   7  \n",
       "delivery_choice    5.56    5.0   2  49  \n",
       "delivery_courier   6.84    7.0   3  45  \n",
       "delivery_pickup    8.06    7.0   3  71  \n",
       "main               2.94    1.0   0  20  \n",
       "payment_card       7.34    9.0   5  65  \n",
       "payment_cash      11.10    9.5   5  73  \n",
       "payment_choice     6.37    7.0   4  52  \n",
       "payment_done       8.29   10.0   5  84  \n",
       "product1           6.04    3.0   1  61  \n",
       "product2           4.51    3.0   1  36  "
      ]
     },
     "execution_count": 18,
     "metadata": {},
     "output_type": "execute_result"
    }
   ],
   "source": [
    "stream = datasets.load_simple_shop()\n",
    "stream.describe_events()"
   ]
  },
  {
   "cell_type": "code",
   "execution_count": 19,
   "metadata": {
    "colab": {
     "base_uri": "https://localhost:8080/",
     "height": 488
    },
    "executionInfo": {
     "elapsed": 8,
     "status": "ok",
     "timestamp": 1682535468578,
     "user": {
      "displayName": "Anatoliy Zaykovskiy",
      "userId": "11710160701524337708"
     },
     "user_tz": -180
    },
    "id": "Isw57wZlRKmc",
    "outputId": "14b6772c-f89d-4ea6-ecb0-3ff5f6084739"
   },
   "outputs": [
    {
     "data": {
      "text/html": [
       "<div>\n",
       "<style scoped>\n",
       "    .dataframe tbody tr th:only-of-type {\n",
       "        vertical-align: middle;\n",
       "    }\n",
       "\n",
       "    .dataframe tbody tr th {\n",
       "        vertical-align: top;\n",
       "    }\n",
       "\n",
       "    .dataframe thead th {\n",
       "        text-align: right;\n",
       "    }\n",
       "</style>\n",
       "<table border=\"1\" class=\"dataframe\">\n",
       "  <thead>\n",
       "    <tr style=\"text-align: right;\">\n",
       "      <th></th>\n",
       "      <th>event</th>\n",
       "      <th>cart</th>\n",
       "      <th>payment_done</th>\n",
       "    </tr>\n",
       "  </thead>\n",
       "  <tbody>\n",
       "    <tr>\n",
       "      <th rowspan=\"4\" valign=\"top\">basic_statistics</th>\n",
       "      <th>number_of_occurrences</th>\n",
       "      <td>2842</td>\n",
       "      <td>706</td>\n",
       "    </tr>\n",
       "    <tr>\n",
       "      <th>unique_users</th>\n",
       "      <td>1924</td>\n",
       "      <td>653</td>\n",
       "    </tr>\n",
       "    <tr>\n",
       "      <th>number_of_occurrences_shared</th>\n",
       "      <td>0.09</td>\n",
       "      <td>0.02</td>\n",
       "    </tr>\n",
       "    <tr>\n",
       "      <th>unique_users_shared</th>\n",
       "      <td>0.51</td>\n",
       "      <td>0.17</td>\n",
       "    </tr>\n",
       "    <tr>\n",
       "      <th rowspan=\"5\" valign=\"top\">time_to_FO_user_wise</th>\n",
       "      <th>mean</th>\n",
       "      <td>3 days 08:59:14</td>\n",
       "      <td>7 days 01:37:54</td>\n",
       "    </tr>\n",
       "    <tr>\n",
       "      <th>std</th>\n",
       "      <td>11 days 19:28:46</td>\n",
       "      <td>17 days 09:10:00</td>\n",
       "    </tr>\n",
       "    <tr>\n",
       "      <th>median</th>\n",
       "      <td>0 days 00:00:56</td>\n",
       "      <td>0 days 00:01:34</td>\n",
       "    </tr>\n",
       "    <tr>\n",
       "      <th>min</th>\n",
       "      <td>0 days 00:00:01</td>\n",
       "      <td>0 days 00:00:08</td>\n",
       "    </tr>\n",
       "    <tr>\n",
       "      <th>max</th>\n",
       "      <td>118 days 16:11:36</td>\n",
       "      <td>115 days 09:18:59</td>\n",
       "    </tr>\n",
       "    <tr>\n",
       "      <th rowspan=\"5\" valign=\"top\">steps_to_FO_user_wise</th>\n",
       "      <th>mean</th>\n",
       "      <td>4.51</td>\n",
       "      <td>12.21</td>\n",
       "    </tr>\n",
       "    <tr>\n",
       "      <th>std</th>\n",
       "      <td>4.09</td>\n",
       "      <td>8.29</td>\n",
       "    </tr>\n",
       "    <tr>\n",
       "      <th>median</th>\n",
       "      <td>3.0</td>\n",
       "      <td>10.0</td>\n",
       "    </tr>\n",
       "    <tr>\n",
       "      <th>min</th>\n",
       "      <td>1</td>\n",
       "      <td>5</td>\n",
       "    </tr>\n",
       "    <tr>\n",
       "      <th>max</th>\n",
       "      <td>41</td>\n",
       "      <td>84</td>\n",
       "    </tr>\n",
       "  </tbody>\n",
       "</table>\n",
       "</div>"
      ],
      "text/plain": [
       "event                                                            cart  \\\n",
       "basic_statistics      number_of_occurrences                      2842   \n",
       "                      unique_users                               1924   \n",
       "                      number_of_occurrences_shared               0.09   \n",
       "                      unique_users_shared                        0.51   \n",
       "time_to_FO_user_wise  mean                            3 days 08:59:14   \n",
       "                      std                            11 days 19:28:46   \n",
       "                      median                          0 days 00:00:56   \n",
       "                      min                             0 days 00:00:01   \n",
       "                      max                           118 days 16:11:36   \n",
       "steps_to_FO_user_wise mean                                       4.51   \n",
       "                      std                                        4.09   \n",
       "                      median                                      3.0   \n",
       "                      min                                           1   \n",
       "                      max                                          41   \n",
       "\n",
       "event                                                    payment_done  \n",
       "basic_statistics      number_of_occurrences                       706  \n",
       "                      unique_users                                653  \n",
       "                      number_of_occurrences_shared               0.02  \n",
       "                      unique_users_shared                        0.17  \n",
       "time_to_FO_user_wise  mean                            7 days 01:37:54  \n",
       "                      std                            17 days 09:10:00  \n",
       "                      median                          0 days 00:01:34  \n",
       "                      min                             0 days 00:00:08  \n",
       "                      max                           115 days 09:18:59  \n",
       "steps_to_FO_user_wise mean                                      12.21  \n",
       "                      std                                        8.29  \n",
       "                      median                                     10.0  \n",
       "                      min                                           5  \n",
       "                      max                                          84  "
      ]
     },
     "execution_count": 19,
     "metadata": {},
     "output_type": "execute_result"
    }
   ],
   "source": [
    "stream.describe_events()\n",
    "stream.describe_events(event_list=['payment_done', 'cart']).T"
   ]
  },
  {
   "cell_type": "markdown",
   "metadata": {
    "id": "k7v2zN1p4Rkj"
   },
   "source": [
    "### Time-based histograms"
   ]
  },
  {
   "cell_type": "markdown",
   "metadata": {
    "id": "20wdTUNL5WJs"
   },
   "source": [
    "#### User lifetime"
   ]
  },
  {
   "cell_type": "code",
   "execution_count": 20,
   "metadata": {
    "colab": {
     "base_uri": "https://localhost:8080/",
     "height": 449
    },
    "executionInfo": {
     "elapsed": 759,
     "status": "ok",
     "timestamp": 1682535876902,
     "user": {
      "displayName": "Anatoliy Zaykovskiy",
      "userId": "11710160701524337708"
     },
     "user_tz": -180
    },
    "id": "5ILZ2Lwu4hTg",
    "outputId": "d3872853-ed28-4b11-b996-967712276f3c"
   },
   "outputs": [
    {
     "data": {
      "image/png": "[encoded data removed]",
      "text/plain": [
       "<Figure size 600x450 with 1 Axes>"
      ]
     },
     "metadata": {},
     "output_type": "display_data"
    }
   ],
   "source": [
    "stream.user_lifetime_hist();"
   ]
  },
  {
   "cell_type": "markdown",
   "metadata": {
    "id": "HTW7lgU5S3c_"
   },
   "source": [
    "#### Timedelta between two events\n"
   ]
  },
  {
   "cell_type": "code",
   "execution_count": 21,
   "metadata": {
    "colab": {
     "base_uri": "https://localhost:8080/",
     "height": 453
    },
    "executionInfo": {
     "elapsed": 994,
     "status": "ok",
     "timestamp": 1682536647332,
     "user": {
      "displayName": "Anatoliy Zaykovskiy",
      "userId": "11710160701524337708"
     },
     "user_tz": -180
    },
    "id": "oSmM7jrpT1-1",
    "outputId": "0aa5bd30-3209-41f0-9155-234f06ed44f1"
   },
   "outputs": [
    {
     "data": {
      "image/png": "[encoded data removed]",
      "text/plain": [
       "<Figure size 600x450 with 1 Axes>"
      ]
     },
     "metadata": {},
     "output_type": "display_data"
    }
   ],
   "source": [
    "stream.timedelta_hist(log_scale=True, timedelta_unit='m');"
   ]
  },
  {
   "cell_type": "code",
   "execution_count": 22,
   "metadata": {
    "colab": {
     "base_uri": "https://localhost:8080/",
     "height": 944
    },
    "executionInfo": {
     "elapsed": 5377,
     "status": "ok",
     "timestamp": 1682536659137,
     "user": {
      "displayName": "Anatoliy Zaykovskiy",
      "userId": "11710160701524337708"
     },
     "user_tz": -180
    },
    "id": "oOmuXJjxWNcU",
    "outputId": "c0d1964a-f4ac-4a34-8492-a4968d9e205f"
   },
   "outputs": [
    {
     "data": {
      "image/png": "[encoded data removed]",
      "text/plain": [
       "<Figure size 600x450 with 1 Axes>"
      ]
     },
     "metadata": {},
     "output_type": "display_data"
    },
    {
     "data": {
      "image/png": "[encoded data removed]",
      "text/plain": [
       "<Figure size 600x450 with 1 Axes>"
      ]
     },
     "metadata": {},
     "output_type": "display_data"
    }
   ],
   "source": [
    "stream_with_synthetic = datasets\\\n",
    "    .load_simple_shop()\\\n",
    "    .add_start_end_events()\\\n",
    "    .split_sessions(timeout=(30, 'm'))\n",
    "\n",
    "stream_with_synthetic.timedelta_hist(log_scale=True, timedelta_unit='m')\n",
    "stream_with_synthetic.timedelta_hist(\n",
    "    raw_events_only=True,\n",
    "    log_scale=True,\n",
    "    timedelta_unit='m'\n",
    ");"
   ]
  },
  {
   "cell_type": "code",
   "execution_count": 23,
   "metadata": {
    "colab": {
     "base_uri": "https://localhost:8080/",
     "height": 449
    },
    "executionInfo": {
     "elapsed": 937,
     "status": "ok",
     "timestamp": 1682539478849,
     "user": {
      "displayName": "Anatoliy Zaykovskiy",
      "userId": "11710160701524337708"
     },
     "user_tz": -180
    },
    "id": "3Ca9XUOVXbRK",
    "outputId": "d14d127e-521b-42c3-ddbb-c4dcdc162386"
   },
   "outputs": [
    {
     "data": {
      "image/png": "[encoded data removed]",
      "text/plain": [
       "<Figure size 600x450 with 1 Axes>"
      ]
     },
     "metadata": {},
     "output_type": "display_data"
    }
   ],
   "source": [
    "stream.timedelta_hist(event_pair=('product1', 'cart'), timedelta_unit='m');"
   ]
  },
  {
   "cell_type": "code",
   "execution_count": 24,
   "metadata": {
    "colab": {
     "base_uri": "https://localhost:8080/",
     "height": 449
    },
    "executionInfo": {
     "elapsed": 1117,
     "status": "ok",
     "timestamp": 1682536989414,
     "user": {
      "displayName": "Anatoliy Zaykovskiy",
      "userId": "11710160701524337708"
     },
     "user_tz": -180
    },
    "id": "_XDrIryfXmWM",
    "outputId": "3bddc560-849b-425d-9076-04a6e2f85573"
   },
   "outputs": [
    {
     "data": {
      "image/png": "[encoded data removed]",
      "text/plain": [
       "<Figure size 600x450 with 1 Axes>"
      ]
     },
     "metadata": {},
     "output_type": "display_data"
    }
   ],
   "source": [
    "stream.timedelta_hist(\n",
    "    event_pair=('product1', 'cart'),\n",
    "    timedelta_unit='m',\n",
    "    adjacent_events_only=False\n",
    ");"
   ]
  },
  {
   "cell_type": "code",
   "execution_count": 25,
   "metadata": {
    "colab": {
     "base_uri": "https://localhost:8080/",
     "height": 449
    },
    "executionInfo": {
     "elapsed": 6,
     "status": "ok",
     "timestamp": 1682539467236,
     "user": {
      "displayName": "Anatoliy Zaykovskiy",
      "userId": "11710160701524337708"
     },
     "user_tz": -180
    },
    "id": "Q62Lpl6LKQBg",
    "outputId": "d49dc1ea-021b-4c52-95fe-8103de202f39"
   },
   "outputs": [
    {
     "data": {
      "image/png": "[encoded data removed]",
      "text/plain": [
       "<Figure size 600x450 with 1 Axes>"
      ]
     },
     "metadata": {},
     "output_type": "display_data"
    }
   ],
   "source": [
    "stream.timedelta_hist(\n",
    "        event_pair=('product1', 'cart'),\n",
    "        timedelta_unit='m',\n",
    "        adjacent_events_only=False,\n",
    "        lower_cutoff_quantile=0.9\n",
    "    );"
   ]
  },
  {
   "cell_type": "code",
   "execution_count": 26,
   "metadata": {
    "colab": {
     "base_uri": "https://localhost:8080/",
     "height": 449
    },
    "executionInfo": {
     "elapsed": 496,
     "status": "ok",
     "timestamp": 1682539468246,
     "user": {
      "displayName": "Anatoliy Zaykovskiy",
      "userId": "11710160701524337708"
     },
     "user_tz": -180
    },
    "id": "3OPKdBOrKcc_",
    "outputId": "cbdc983f-e548-420d-c23e-bad68fe471a3"
   },
   "outputs": [
    {
     "data": {
      "image/png": "[encoded data removed]",
      "text/plain": [
       "<Figure size 600x450 with 1 Axes>"
      ]
     },
     "metadata": {},
     "output_type": "display_data"
    }
   ],
   "source": [
    "stream.timedelta_hist(\n",
    "        event_pair=('product1', 'cart'),\n",
    "        timedelta_unit='m',\n",
    "        adjacent_events_only=False,\n",
    "        upper_cutoff_quantile=0.1\n",
    "    );"
   ]
  },
  {
   "cell_type": "code",
   "execution_count": 27,
   "metadata": {
    "colab": {
     "base_uri": "https://localhost:8080/",
     "height": 449
    },
    "executionInfo": {
     "elapsed": 491,
     "status": "ok",
     "timestamp": 1682539470356,
     "user": {
      "displayName": "Anatoliy Zaykovskiy",
      "userId": "11710160701524337708"
     },
     "user_tz": -180
    },
    "id": "Cq6NAvPEYGw_",
    "outputId": "da06bb64-3cd8-43eb-ef45-c90b3ffe181d"
   },
   "outputs": [
    {
     "data": {
      "image/png": "[encoded data removed]",
      "text/plain": [
       "<Figure size 600x450 with 1 Axes>"
      ]
     },
     "metadata": {},
     "output_type": "display_data"
    }
   ],
   "source": [
    "stream_with_synthetic\\\n",
    "    .timedelta_hist(\n",
    "        event_pair=('product1', 'cart'),\n",
    "        timedelta_unit='m',\n",
    "        adjacent_events_only=False,\n",
    "        weight_col='session_id'\n",
    "    );"
   ]
  },
  {
   "cell_type": "code",
   "execution_count": 28,
   "metadata": {
    "colab": {
     "base_uri": "https://localhost:8080/",
     "height": 449
    },
    "executionInfo": {
     "elapsed": 8,
     "status": "ok",
     "timestamp": 1682540317182,
     "user": {
      "displayName": "Anatoliy Zaykovskiy",
      "userId": "11710160701524337708"
     },
     "user_tz": -180
    },
    "id": "NxJnm-HMYYfX",
    "outputId": "5e51583a-da64-4c64-bf09-eb73285e4157"
   },
   "outputs": [
    {
     "data": {
      "image/png": "[encoded data removed]",
      "text/plain": [
       "<Figure size 600x450 with 1 Axes>"
      ]
     },
     "metadata": {},
     "output_type": "display_data"
    }
   ],
   "source": [
    "stream\\\n",
    "    .timedelta_hist(\n",
    "        event_pair=('main', 'catalog'),\n",
    "        timedelta_unit='m',\n",
    "        adjacent_events_only=False,\n",
    "        weight_col='user_id',\n",
    "        time_agg='mean'\n",
    "    );"
   ]
  },
  {
   "cell_type": "markdown",
   "metadata": {
    "id": "U-fHCaabYqu-"
   },
   "source": [
    "#### Eventstream global events\n"
   ]
  },
  {
   "cell_type": "code",
   "execution_count": 29,
   "metadata": {
    "colab": {
     "base_uri": "https://localhost:8080/",
     "height": 449
    },
    "executionInfo": {
     "elapsed": 880,
     "status": "ok",
     "timestamp": 1682540766203,
     "user": {
      "displayName": "Anatoliy Zaykovskiy",
      "userId": "11710160701524337708"
     },
     "user_tz": -180
    },
    "id": "DZsJ-_deZlGL",
    "outputId": "53303527-e812-4465-a6f3-90ef4257227a"
   },
   "outputs": [
    {
     "data": {
      "image/png": "[encoded data removed]",
      "text/plain": [
       "<Figure size 600x450 with 1 Axes>"
      ]
     },
     "metadata": {},
     "output_type": "display_data"
    }
   ],
   "source": [
    "stream_with_synthetic\\\n",
    "    .timedelta_hist(\n",
    "        event_pair=('eventstream_start', 'path_end'),\n",
    "        timedelta_unit='h',\n",
    "        adjacent_events_only=False\n",
    "    );"
   ]
  },
  {
   "cell_type": "markdown",
   "metadata": {
    "id": "eT5TUd5O5Pp_"
   },
   "source": [
    "### Events intensity"
   ]
  },
  {
   "cell_type": "code",
   "execution_count": 30,
   "metadata": {
    "colab": {
     "base_uri": "https://localhost:8080/",
     "height": 429
    },
    "executionInfo": {
     "elapsed": 895,
     "status": "ok",
     "timestamp": 1682540857450,
     "user": {
      "displayName": "Anatoliy Zaykovskiy",
      "userId": "11710160701524337708"
     },
     "user_tz": -180
    },
    "id": "5hURSECJ8ixm",
    "outputId": "97d3a3bc-4f98-47a5-fd2b-fc81a96b81e6"
   },
   "outputs": [
    {
     "data": {
      "image/png": "[encoded data removed]",
      "text/plain": [
       "<Figure size 600x450 with 1 Axes>"
      ]
     },
     "metadata": {},
     "output_type": "display_data"
    }
   ],
   "source": [
    "stream.event_timestamp_hist();"
   ]
  },
  {
   "cell_type": "code",
   "execution_count": 31,
   "metadata": {
    "colab": {
     "base_uri": "https://localhost:8080/",
     "height": 484
    },
    "executionInfo": {
     "elapsed": 1371,
     "status": "ok",
     "timestamp": 1682540882764,
     "user": {
      "displayName": "Anatoliy Zaykovskiy",
      "userId": "11710160701524337708"
     },
     "user_tz": -180
    },
    "id": "L5cLS-Z08qqX",
    "outputId": "321e2187-b465-4cf6-a6f7-7399c236ba01"
   },
   "outputs": [
    {
     "data": {
      "image/png": "[encoded data removed]",
      "text/plain": [
       "<Figure size 600x450 with 1 Axes>"
      ]
     },
     "metadata": {},
     "output_type": "display_data"
    }
   ],
   "source": [
    "stream\\\n",
    "    .add_start_end_events()\\\n",
    "    .event_timestamp_hist(event_list=['path_start']);"
   ]
  },
  {
   "cell_type": "code",
   "execution_count": null,
   "metadata": {
    "collapsed": false,
    "jupyter": {
     "outputs_hidden": false
    },
    "pycharm": {
     "is_executing": true
    }
   },
   "outputs": [],
   "source": []
  }
 ],
 "metadata": {
  "colab": {
   "provenance": [
    {
     "file_id": "1Gcj_hfBODZj4noEHMXl5O-ij4gcs5qzn",
     "timestamp": 1671629341415
    }
   ]
  },
  "kernelspec": {
   "display_name": "Python 3",
   "language": "python",
   "name": "python3"
  },
  "language_info": {
   "codemirror_mode": {
    "name": "ipython",
    "version": 3
   },
   "file_extension": ".py",
   "mimetype": "text/x-python",
   "name": "python",
   "nbconvert_exporter": "python",
   "pygments_lexer": "ipython3",
   "version": "3.8.15"
  }
 },
 "nbformat": 4,
 "nbformat_minor": 4
}
